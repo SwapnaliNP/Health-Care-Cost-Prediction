{
  "cells": [
    {
      "cell_type": "markdown",
      "id": "4bdcb2cb",
      "metadata": {
        "id": "4bdcb2cb"
      },
      "source": [
        "Please do comment if necessary wherever on the notebook ."
      ]
    },
    {
      "cell_type": "markdown",
      "id": "3d5dff84",
      "metadata": {
        "id": "3d5dff84"
      },
      "source": [
        "# Health-care cost prediction with Linear Regression"
      ]
    },
    {
      "cell_type": "markdown",
      "id": "19a1588a",
      "metadata": {
        "id": "19a1588a"
      },
      "source": [
        "We are going to create a linear model using the data obtained from https://www.kaggle.com/ruslankl/health-care-cost-prediction-w-linear-regression/data"
      ]
    },
    {
      "cell_type": "markdown",
      "id": "44944e6f",
      "metadata": {
        "id": "44944e6f"
      },
      "source": [
        "Importing the necessary Libraries"
      ]
    },
    {
      "cell_type": "code",
      "execution_count": 26,
      "id": "9ab36b7a",
      "metadata": {
        "id": "9ab36b7a"
      },
      "outputs": [],
      "source": [
        "#initialization of the library and packages:\n",
        "import pandas as pd\n",
        "from plotnine import *\n",
        "from matplotlib import *\n",
        "import matplotlib.pyplot as plt\n",
        "import numpy as np\n",
        "import seaborn as sns\n",
        "%matplotlib inline\n",
        "sns.set()\n",
        "plt.rcParams['patch.force_edgecolor'] = True\n",
        "plt.rcParams['axes.labelweight'] = 'bold'\n",
        "import warnings\n",
        "warnings.filterwarnings('ignore')\n",
        "from sklearn.linear_model import LinearRegression, RidgeCV, LassoCV"
      ]
    },
    {
      "cell_type": "markdown",
      "id": "086f103b",
      "metadata": {
        "id": "086f103b"
      },
      "source": [
        "## Importing the dataset and first introspection "
      ]
    },
    {
      "cell_type": "code",
      "execution_count": 27,
      "id": "797d4c15-7369-4ea6-ab16-88b54032ff23",
      "metadata": {
        "id": "797d4c15-7369-4ea6-ab16-88b54032ff23"
      },
      "outputs": [],
      "source": [
        "##Preparing the dataset:\n",
        "insuranceData = pandas.read_csv('insurance.csv')"
      ]
    },
    {
      "cell_type": "markdown",
      "id": "8e966752",
      "metadata": {
        "id": "8e966752"
      },
      "source": [
        "Describing the dataset by looking at the first 5 columns"
      ]
    },
    {
      "cell_type": "code",
      "execution_count": 28,
      "id": "786fc0ed-5144-4b44-b802-dfb0c087b2ae",
      "metadata": {
        "colab": {
          "base_uri": "https://localhost:8080/",
          "height": 206
        },
        "id": "786fc0ed-5144-4b44-b802-dfb0c087b2ae",
        "outputId": "81fd2fc3-2fc9-4d79-be01-686c1272afeb"
      },
      "outputs": [
        {
          "output_type": "execute_result",
          "data": {
            "text/html": [
              "<div>\n",
              "<style scoped>\n",
              "    .dataframe tbody tr th:only-of-type {\n",
              "        vertical-align: middle;\n",
              "    }\n",
              "\n",
              "    .dataframe tbody tr th {\n",
              "        vertical-align: top;\n",
              "    }\n",
              "\n",
              "    .dataframe thead th {\n",
              "        text-align: right;\n",
              "    }\n",
              "</style>\n",
              "<table border=\"1\" class=\"dataframe\">\n",
              "  <thead>\n",
              "    <tr style=\"text-align: right;\">\n",
              "      <th></th>\n",
              "      <th>age</th>\n",
              "      <th>sex</th>\n",
              "      <th>bmi</th>\n",
              "      <th>children</th>\n",
              "      <th>smoker</th>\n",
              "      <th>region</th>\n",
              "      <th>charges</th>\n",
              "    </tr>\n",
              "  </thead>\n",
              "  <tbody>\n",
              "    <tr>\n",
              "      <th>0</th>\n",
              "      <td>19</td>\n",
              "      <td>female</td>\n",
              "      <td>27.900</td>\n",
              "      <td>0</td>\n",
              "      <td>yes</td>\n",
              "      <td>southwest</td>\n",
              "      <td>16884.92400</td>\n",
              "    </tr>\n",
              "    <tr>\n",
              "      <th>1</th>\n",
              "      <td>18</td>\n",
              "      <td>male</td>\n",
              "      <td>33.770</td>\n",
              "      <td>1</td>\n",
              "      <td>no</td>\n",
              "      <td>southeast</td>\n",
              "      <td>1725.55230</td>\n",
              "    </tr>\n",
              "    <tr>\n",
              "      <th>2</th>\n",
              "      <td>28</td>\n",
              "      <td>male</td>\n",
              "      <td>33.000</td>\n",
              "      <td>3</td>\n",
              "      <td>no</td>\n",
              "      <td>southeast</td>\n",
              "      <td>4449.46200</td>\n",
              "    </tr>\n",
              "    <tr>\n",
              "      <th>3</th>\n",
              "      <td>33</td>\n",
              "      <td>male</td>\n",
              "      <td>22.705</td>\n",
              "      <td>0</td>\n",
              "      <td>no</td>\n",
              "      <td>northwest</td>\n",
              "      <td>21984.47061</td>\n",
              "    </tr>\n",
              "    <tr>\n",
              "      <th>4</th>\n",
              "      <td>32</td>\n",
              "      <td>male</td>\n",
              "      <td>28.880</td>\n",
              "      <td>0</td>\n",
              "      <td>no</td>\n",
              "      <td>northwest</td>\n",
              "      <td>3866.85520</td>\n",
              "    </tr>\n",
              "  </tbody>\n",
              "</table>\n",
              "</div>"
            ],
            "text/plain": [
              "   age     sex     bmi  children smoker     region      charges\n",
              "0   19  female  27.900         0    yes  southwest  16884.92400\n",
              "1   18    male  33.770         1     no  southeast   1725.55230\n",
              "2   28    male  33.000         3     no  southeast   4449.46200\n",
              "3   33    male  22.705         0     no  northwest  21984.47061\n",
              "4   32    male  28.880         0     no  northwest   3866.85520"
            ]
          },
          "metadata": {},
          "execution_count": 28
        }
      ],
      "source": [
        "#Displaying the top five data from the dataset:\n",
        "insuranceData.head(5)"
      ]
    },
    {
      "cell_type": "markdown",
      "id": "8d4fff78-7433-4c3e-a28f-9849774cc093",
      "metadata": {
        "id": "8d4fff78-7433-4c3e-a28f-9849774cc093"
      },
      "source": [
        "Age: insurance contractor age, years\n",
        "\n",
        "Sex: insurance contractor gender, [female, male]\n",
        "\n",
        "BMI: Body mass index, providing an understanding of body, weights that are relatively high or low relative to height, objective index of body weight (kg / m ^ 2) using the ratio of height to weight, ideally 18.5 to 24.9\n",
        "\n",
        "Children: number of children covered by health insurance / Number of dependents\n",
        "\n",
        "Smoker: smoking, [yes, no]\n",
        "\n",
        "Region: the beneficiary’s residential area in the US, [northeast, southeast, southwest, northwest]\n",
        "\n",
        "Charges: Individual medical costs billed by health insurance, $ #predicted value"
      ]
    },
    {
      "cell_type": "markdown",
      "id": "f881ce81",
      "metadata": {
        "id": "f881ce81"
      },
      "source": [
        "Now, let's check if there are null values in the data"
      ]
    },
    {
      "cell_type": "code",
      "execution_count": 29,
      "id": "63cef9da",
      "metadata": {
        "colab": {
          "base_uri": "https://localhost:8080/"
        },
        "id": "63cef9da",
        "outputId": "403a09ce-741e-4977-92af-fdd4e3fab897"
      },
      "outputs": [
        {
          "output_type": "execute_result",
          "data": {
            "text/plain": [
              "age         0\n",
              "sex         0\n",
              "bmi         0\n",
              "children    0\n",
              "smoker      0\n",
              "region      0\n",
              "charges     0\n",
              "dtype: int64"
            ]
          },
          "metadata": {},
          "execution_count": 29
        }
      ],
      "source": [
        "#Listing all the features/constraints along with their weight:\n",
        "insuranceData.isnull().sum()"
      ]
    },
    {
      "cell_type": "markdown",
      "id": "01c7c78a",
      "metadata": {
        "id": "01c7c78a"
      },
      "source": [
        "No Null Values"
      ]
    },
    {
      "cell_type": "markdown",
      "id": "624a3ca7",
      "metadata": {
        "id": "624a3ca7"
      },
      "source": [
        "# Statistical Methods applied on the dataframe "
      ]
    },
    {
      "cell_type": "code",
      "execution_count": 30,
      "id": "39398bf8",
      "metadata": {
        "scrolled": true,
        "colab": {
          "base_uri": "https://localhost:8080/",
          "height": 300
        },
        "id": "39398bf8",
        "outputId": "5c3f65d5-fb51-4ef5-c1b2-9e6aed96f18f"
      },
      "outputs": [
        {
          "output_type": "execute_result",
          "data": {
            "text/html": [
              "<div>\n",
              "<style scoped>\n",
              "    .dataframe tbody tr th:only-of-type {\n",
              "        vertical-align: middle;\n",
              "    }\n",
              "\n",
              "    .dataframe tbody tr th {\n",
              "        vertical-align: top;\n",
              "    }\n",
              "\n",
              "    .dataframe thead th {\n",
              "        text-align: right;\n",
              "    }\n",
              "</style>\n",
              "<table border=\"1\" class=\"dataframe\">\n",
              "  <thead>\n",
              "    <tr style=\"text-align: right;\">\n",
              "      <th></th>\n",
              "      <th>age</th>\n",
              "      <th>bmi</th>\n",
              "      <th>children</th>\n",
              "      <th>charges</th>\n",
              "    </tr>\n",
              "  </thead>\n",
              "  <tbody>\n",
              "    <tr>\n",
              "      <th>count</th>\n",
              "      <td>1338.000000</td>\n",
              "      <td>1338.000000</td>\n",
              "      <td>1338.000000</td>\n",
              "      <td>1338.000000</td>\n",
              "    </tr>\n",
              "    <tr>\n",
              "      <th>mean</th>\n",
              "      <td>39.207025</td>\n",
              "      <td>30.663397</td>\n",
              "      <td>1.094918</td>\n",
              "      <td>13270.422265</td>\n",
              "    </tr>\n",
              "    <tr>\n",
              "      <th>std</th>\n",
              "      <td>14.049960</td>\n",
              "      <td>6.098187</td>\n",
              "      <td>1.205493</td>\n",
              "      <td>12110.011237</td>\n",
              "    </tr>\n",
              "    <tr>\n",
              "      <th>min</th>\n",
              "      <td>18.000000</td>\n",
              "      <td>15.960000</td>\n",
              "      <td>0.000000</td>\n",
              "      <td>1121.873900</td>\n",
              "    </tr>\n",
              "    <tr>\n",
              "      <th>25%</th>\n",
              "      <td>27.000000</td>\n",
              "      <td>26.296250</td>\n",
              "      <td>0.000000</td>\n",
              "      <td>4740.287150</td>\n",
              "    </tr>\n",
              "    <tr>\n",
              "      <th>50%</th>\n",
              "      <td>39.000000</td>\n",
              "      <td>30.400000</td>\n",
              "      <td>1.000000</td>\n",
              "      <td>9382.033000</td>\n",
              "    </tr>\n",
              "    <tr>\n",
              "      <th>75%</th>\n",
              "      <td>51.000000</td>\n",
              "      <td>34.693750</td>\n",
              "      <td>2.000000</td>\n",
              "      <td>16639.912515</td>\n",
              "    </tr>\n",
              "    <tr>\n",
              "      <th>max</th>\n",
              "      <td>64.000000</td>\n",
              "      <td>53.130000</td>\n",
              "      <td>5.000000</td>\n",
              "      <td>63770.428010</td>\n",
              "    </tr>\n",
              "  </tbody>\n",
              "</table>\n",
              "</div>"
            ],
            "text/plain": [
              "               age          bmi     children       charges\n",
              "count  1338.000000  1338.000000  1338.000000   1338.000000\n",
              "mean     39.207025    30.663397     1.094918  13270.422265\n",
              "std      14.049960     6.098187     1.205493  12110.011237\n",
              "min      18.000000    15.960000     0.000000   1121.873900\n",
              "25%      27.000000    26.296250     0.000000   4740.287150\n",
              "50%      39.000000    30.400000     1.000000   9382.033000\n",
              "75%      51.000000    34.693750     2.000000  16639.912515\n",
              "max      64.000000    53.130000     5.000000  63770.428010"
            ]
          },
          "metadata": {},
          "execution_count": 30
        }
      ],
      "source": [
        "insuranceData.describe()"
      ]
    },
    {
      "cell_type": "markdown",
      "id": "78454ca0",
      "metadata": {
        "id": "78454ca0"
      },
      "source": [
        "Next ,we will plot some data to see the correlation between different factors"
      ]
    },
    {
      "cell_type": "markdown",
      "id": "300a1dd3",
      "metadata": {
        "id": "300a1dd3"
      },
      "source": [
        "## Charges vs. BMI"
      ]
    },
    {
      "cell_type": "code",
      "execution_count": 31,
      "id": "2a018608",
      "metadata": {
        "colab": {
          "base_uri": "https://localhost:8080/",
          "height": 611
        },
        "id": "2a018608",
        "outputId": "7f35d0a5-0a84-4e59-cbf9-0eb2b79acec0"
      },
      "outputs": [
        {
          "output_type": "display_data",
          "data": {
            "image/png": "[encoded data removed]",
            "text/plain": [
              "<Figure size 720x720 with 1 Axes>"
            ]
          },
          "metadata": {}
        }
      ],
      "source": [
        "bmi = np.array([insuranceData.bmi])\n",
        "charges = np.array([insuranceData.charges])\n",
        "plt.figure(figsize=(10,10))\n",
        "plt.xlabel(\"bmi\")\n",
        "plt.ylabel(\"charges\")\n",
        "x = plt.scatter(bmi, charges,color = 'purple')\n",
        "\n"
      ]
    },
    {
      "cell_type": "markdown",
      "id": "6a5af679",
      "metadata": {
        "id": "6a5af679"
      },
      "source": [
        "We see that charges are not higher than $40,000 for a person who's on the median of the healthy bmi scale for an adult \n",
        "(18-25: Normal) <br>\n",
        "source : https://health.clevelandclinic.org/whats-a-healthy-bmi/"
      ]
    },
    {
      "cell_type": "markdown",
      "id": "ec47ebb4",
      "metadata": {
        "id": "ec47ebb4"
      },
      "source": [
        "## Charges vs. Age"
      ]
    },
    {
      "cell_type": "code",
      "execution_count": 32,
      "id": "e1143774",
      "metadata": {
        "colab": {
          "base_uri": "https://localhost:8080/",
          "height": 611
        },
        "id": "e1143774",
        "outputId": "e6983209-41e1-409e-95a6-44b9bc73061c"
      },
      "outputs": [
        {
          "output_type": "display_data",
          "data": {
            "image/png": "[encoded data removed]",
            "text/plain": [
              "<Figure size 720x720 with 1 Axes>"
            ]
          },
          "metadata": {}
        }
      ],
      "source": [
        "bmi = np.array([insuranceData.bmi])\n",
        "charges = np.array([insuranceData.charges])\n",
        "age = np.array([insuranceData.age])\n",
        "plt.figure(figsize=(10,10))\n",
        "plt.xlabel(\"age\")\n",
        "plt.ylabel(\"charges\")\n",
        "x = plt.scatter(age, charges,color = 'orange')\n"
      ]
    },
    {
      "cell_type": "markdown",
      "id": "809677a4",
      "metadata": {
        "id": "809677a4"
      },
      "source": [
        "No clear correlation yet between age and charges. Can you suggest any ? Please feel free to comment."
      ]
    },
    {
      "cell_type": "markdown",
      "id": "6f61645a",
      "metadata": {
        "id": "6f61645a"
      },
      "source": [
        "## Children vs. Charges"
      ]
    },
    {
      "cell_type": "code",
      "execution_count": 33,
      "id": "5e279784",
      "metadata": {
        "colab": {
          "base_uri": "https://localhost:8080/",
          "height": 611
        },
        "id": "5e279784",
        "outputId": "74fe2f0a-92b8-4e26-88e8-beb24b6fe8b8"
      },
      "outputs": [
        {
          "output_type": "display_data",
          "data": {
            "image/png": "[encoded data removed]",
            "text/plain": [
              "<Figure size 720x720 with 1 Axes>"
            ]
          },
          "metadata": {}
        }
      ],
      "source": [
        "bmi = np.array([insuranceData.bmi])\n",
        "charges = np.array([insuranceData.charges])\n",
        "age = np.array([insuranceData.age])\n",
        "children  = np.array([insuranceData.children])\n",
        "plt.figure(figsize=(10,10))\n",
        "plt.xlabel(\"children\")\n",
        "plt.ylabel(\"charges\")\n",
        "x = plt.scatter(children, charges,color = 'purple')\n"
      ]
    },
    {
      "cell_type": "markdown",
      "id": "8322f6d5",
      "metadata": {
        "id": "8322f6d5"
      },
      "source": [
        "Interestingly, people who had > 3 more children, had lower charges than the rest"
      ]
    },
    {
      "cell_type": "code",
      "execution_count": 34,
      "id": "8b3b4eb8",
      "metadata": {
        "colab": {
          "base_uri": "https://localhost:8080/",
          "height": 611
        },
        "id": "8b3b4eb8",
        "outputId": "9fe35e03-cc55-4640-ae99-db25b944edfe"
      },
      "outputs": [
        {
          "output_type": "display_data",
          "data": {
            "image/png": "[encoded data removed]",
            "text/plain": [
              "<Figure size 720x720 with 1 Axes>"
            ]
          },
          "metadata": {}
        }
      ],
      "source": [
        "children  = np.array([insuranceData.children])\n",
        "age = np.array([insuranceData.age])\n",
        "plt.figure(figsize=(10,10))\n",
        "plt.xlabel(\"age\")\n",
        "plt.ylabel(\"children\")\n",
        "x = plt.scatter(age, children,color = 'purple')\n"
      ]
    },
    {
      "cell_type": "markdown",
      "id": "82626534",
      "metadata": {
        "id": "82626534"
      },
      "source": [
        "The people having 4 or more kids by their 20's need some therapy perhaps ?"
      ]
    },
    {
      "cell_type": "code",
      "execution_count": 35,
      "id": "f406c218",
      "metadata": {
        "colab": {
          "base_uri": "https://localhost:8080/",
          "height": 611
        },
        "id": "f406c218",
        "outputId": "fc82cf71-9e32-4249-b421-fd197e8e012e"
      },
      "outputs": [
        {
          "output_type": "display_data",
          "data": {
            "image/png": "[encoded data removed]",
            "text/plain": [
              "<Figure size 720x720 with 1 Axes>"
            ]
          },
          "metadata": {}
        }
      ],
      "source": [
        "charges = np.array([insuranceData.charges])\n",
        "smoker =insuranceData.smoker\n",
        "plt.figure(figsize=(10,10))\n",
        "plt.xlabel(\"smoker\")\n",
        "plt.ylabel(\"charges\")\n",
        "x = plt.scatter(smoker, charges,color = 'green')"
      ]
    },
    {
      "cell_type": "markdown",
      "id": "0ea68858",
      "metadata": {
        "id": "0ea68858"
      },
      "source": [
        "As expected, charges for smokers are much higher"
      ]
    },
    {
      "cell_type": "markdown",
      "id": "77b5bb60",
      "metadata": {
        "id": "77b5bb60"
      },
      "source": [
        "# Starting our Regression Model"
      ]
    },
    {
      "cell_type": "markdown",
      "id": "6562e113",
      "metadata": {
        "id": "6562e113"
      },
      "source": [
        "Converting categorical data into numerical data."
      ]
    },
    {
      "cell_type": "code",
      "execution_count": 36,
      "id": "1d57561f",
      "metadata": {
        "colab": {
          "base_uri": "https://localhost:8080/",
          "height": 206
        },
        "id": "1d57561f",
        "outputId": "ac8911e4-0c5c-478f-8d12-e05a34b01142"
      },
      "outputs": [
        {
          "output_type": "execute_result",
          "data": {
            "text/html": [
              "<div>\n",
              "<style scoped>\n",
              "    .dataframe tbody tr th:only-of-type {\n",
              "        vertical-align: middle;\n",
              "    }\n",
              "\n",
              "    .dataframe tbody tr th {\n",
              "        vertical-align: top;\n",
              "    }\n",
              "\n",
              "    .dataframe thead th {\n",
              "        text-align: right;\n",
              "    }\n",
              "</style>\n",
              "<table border=\"1\" class=\"dataframe\">\n",
              "  <thead>\n",
              "    <tr style=\"text-align: right;\">\n",
              "      <th></th>\n",
              "      <th>age</th>\n",
              "      <th>bmi</th>\n",
              "      <th>children</th>\n",
              "      <th>charges</th>\n",
              "      <th>sex_male</th>\n",
              "      <th>smoker_yes</th>\n",
              "      <th>region_northwest</th>\n",
              "      <th>region_southeast</th>\n",
              "      <th>region_southwest</th>\n",
              "    </tr>\n",
              "  </thead>\n",
              "  <tbody>\n",
              "    <tr>\n",
              "      <th>0</th>\n",
              "      <td>19</td>\n",
              "      <td>27.900</td>\n",
              "      <td>0</td>\n",
              "      <td>16884.92400</td>\n",
              "      <td>0</td>\n",
              "      <td>1</td>\n",
              "      <td>0</td>\n",
              "      <td>0</td>\n",
              "      <td>1</td>\n",
              "    </tr>\n",
              "    <tr>\n",
              "      <th>1</th>\n",
              "      <td>18</td>\n",
              "      <td>33.770</td>\n",
              "      <td>1</td>\n",
              "      <td>1725.55230</td>\n",
              "      <td>1</td>\n",
              "      <td>0</td>\n",
              "      <td>0</td>\n",
              "      <td>1</td>\n",
              "      <td>0</td>\n",
              "    </tr>\n",
              "    <tr>\n",
              "      <th>2</th>\n",
              "      <td>28</td>\n",
              "      <td>33.000</td>\n",
              "      <td>3</td>\n",
              "      <td>4449.46200</td>\n",
              "      <td>1</td>\n",
              "      <td>0</td>\n",
              "      <td>0</td>\n",
              "      <td>1</td>\n",
              "      <td>0</td>\n",
              "    </tr>\n",
              "    <tr>\n",
              "      <th>3</th>\n",
              "      <td>33</td>\n",
              "      <td>22.705</td>\n",
              "      <td>0</td>\n",
              "      <td>21984.47061</td>\n",
              "      <td>1</td>\n",
              "      <td>0</td>\n",
              "      <td>1</td>\n",
              "      <td>0</td>\n",
              "      <td>0</td>\n",
              "    </tr>\n",
              "    <tr>\n",
              "      <th>4</th>\n",
              "      <td>32</td>\n",
              "      <td>28.880</td>\n",
              "      <td>0</td>\n",
              "      <td>3866.85520</td>\n",
              "      <td>1</td>\n",
              "      <td>0</td>\n",
              "      <td>1</td>\n",
              "      <td>0</td>\n",
              "      <td>0</td>\n",
              "    </tr>\n",
              "  </tbody>\n",
              "</table>\n",
              "</div>"
            ],
            "text/plain": [
              "   age     bmi  children  ...  region_northwest  region_southeast  region_southwest\n",
              "0   19  27.900         0  ...                 0                 0                 1\n",
              "1   18  33.770         1  ...                 0                 1                 0\n",
              "2   28  33.000         3  ...                 0                 1                 0\n",
              "3   33  22.705         0  ...                 1                 0                 0\n",
              "4   32  28.880         0  ...                 1                 0                 0\n",
              "\n",
              "[5 rows x 9 columns]"
            ]
          },
          "metadata": {},
          "execution_count": 36
        }
      ],
      "source": [
        "catColumns = ['sex', 'smoker', 'region']\n",
        "data_dum = pd.get_dummies(insuranceData, columns = catColumns, drop_first=True)\n",
        "data_dum.head()"
      ]
    },
    {
      "cell_type": "markdown",
      "id": "50903870",
      "metadata": {
        "id": "50903870"
      },
      "source": [
        "age, bmi, and smoker_yes as independent variables (x), and charges as the dependent variable (y).\n",
        "bmi : growing index\n",
        "charges : insurance fee\n",
        "And applying a linear regression model"
      ]
    },
    {
      "cell_type": "code",
      "execution_count": 37,
      "id": "ffdeebd6",
      "metadata": {
        "id": "ffdeebd6"
      },
      "outputs": [],
      "source": [
        "#Building the Regression Model and defining the regularization parameters:\n",
        "x = data_dum[['age', 'bmi', 'smoker_yes']] #independent variables\n",
        "y = data_dum['charges'] #dependent variables\n",
        "linreg = LinearRegression()\n",
        "# RidgedCV for 5-fold Cross Validation and setting up the regularization strength(alphas): \n",
        "ridgereg = RidgeCV(alphas=(5.1,0.5,0.8,1.0),cv=5)\n",
        "lassoreg = LassoCV(eps=0.00001, cv = 5)\n",
        "from sklearn.model_selection import cross_val_score"
      ]
    },
    {
      "cell_type": "markdown",
      "id": "129b82e1",
      "metadata": {
        "id": "129b82e1"
      },
      "source": [
        "R-square value is calculated as"
      ]
    },
    {
      "cell_type": "code",
      "execution_count": 38,
      "id": "0747b9ff",
      "metadata": {
        "colab": {
          "base_uri": "https://localhost:8080/"
        },
        "id": "0747b9ff",
        "outputId": "37f7a740-8c4d-4caf-8c39-81a7f1923980"
      },
      "outputs": [
        {
          "output_type": "execute_result",
          "data": {
            "text/plain": [
              "0.7474771588119513"
            ]
          },
          "metadata": {},
          "execution_count": 38
        }
      ],
      "source": [
        "#Fitting the model\n",
        "linreg.fit(x,y) \n",
        "#Display the R square value\n",
        "linreg.score(x,y)"
      ]
    },
    {
      "cell_type": "markdown",
      "id": "31dc3dcf",
      "metadata": {
        "id": "31dc3dcf"
      },
      "source": [
        "The smaller the R-square value, the weaker the influence of the independent variable on the dependent variable, and vice versa."
      ]
    },
    {
      "cell_type": "markdown",
      "id": "b9c64a1e",
      "metadata": {
        "id": "b9c64a1e"
      },
      "source": [
        "Bring up the coefficient and intercept values\n"
      ]
    },
    {
      "cell_type": "code",
      "execution_count": 39,
      "id": "364824ac",
      "metadata": {
        "colab": {
          "base_uri": "https://localhost:8080/"
        },
        "id": "364824ac",
        "outputId": "31268d83-cb2a-4766-ca6d-2c1b85f984d6"
      },
      "outputs": [
        {
          "output_type": "execute_result",
          "data": {
            "text/plain": [
              "array([  259.54749155,   322.61513282, 23823.68449531])"
            ]
          },
          "metadata": {},
          "execution_count": 39
        }
      ],
      "source": [
        "#Obtaining the coefficients B1,B2,B3 of the linear regression model\n",
        "linreg.coef_\n"
      ]
    },
    {
      "cell_type": "code",
      "execution_count": 40,
      "id": "3f0c8958",
      "metadata": {
        "colab": {
          "base_uri": "https://localhost:8080/"
        },
        "id": "3f0c8958",
        "outputId": "5511e450-671c-46fa-ea8d-2125a99fa1b8"
      },
      "outputs": [
        {
          "output_type": "execute_result",
          "data": {
            "text/plain": [
              "-11676.830425187782"
            ]
          },
          "metadata": {},
          "execution_count": 40
        }
      ],
      "source": [
        "#Intercept value (B0) \n",
        "linreg.intercept_"
      ]
    },
    {
      "cell_type": "markdown",
      "id": "9873d9e0",
      "metadata": {
        "id": "9873d9e0"
      },
      "source": [
        "Based on the output, the intercept value is -11676.830. And beta coefficients B1, B2, and B3 are 259,547, 322,615, and 23823,684 respectively. The regression model can be written, y = -11676.830 + 259.547x1 + 322.615x2 + 23823,684x3."
      ]
    },
    {
      "cell_type": "markdown",
      "id": "9bbaaa7b",
      "metadata": {
        "id": "9bbaaa7b"
      },
      "source": [
        "After we get a regression model, we try to make a prediction using the regression model."
      ]
    },
    {
      "cell_type": "code",
      "execution_count": 41,
      "id": "29376866",
      "metadata": {
        "id": "29376866"
      },
      "outputs": [],
      "source": [
        "#Defining a function to predict the cost\n",
        "def calc_insurance(age, bmi, smoking):\n",
        " y = ((age*linreg.coef_[0]) + (bmi*linreg.coef_[1]) + (smoking*linreg.coef_[2]) - linreg.intercept_)\n",
        " return y"
      ]
    },
    {
      "cell_type": "markdown",
      "id": "e659d6a9",
      "metadata": {
        "id": "e659d6a9"
      },
      "source": [
        "We calculate the predictions using the parameters of agi, BMI and smoker_yes in the function calc_insurance we have created"
      ]
    },
    {
      "cell_type": "code",
      "execution_count": 42,
      "id": "c1f1c27b",
      "metadata": {
        "colab": {
          "base_uri": "https://localhost:8080/"
        },
        "id": "c1f1c27b",
        "outputId": "f39a0395-ab76-4308-b956-2ded0aaf222c"
      },
      "outputs": [
        {
          "output_type": "stream",
          "name": "stdout",
          "text": [
            "28763.303308712795\n",
            "52586.98780402163\n",
            "55167.908866574275\n",
            "31344.22437126544\n"
          ]
        }
      ],
      "source": [
        "print(calc_insurance(36, 24, 0))\n",
        "print(calc_insurance(36, 24, 1))\n",
        "print(calc_insurance(36, 32, 1))\n",
        "print(calc_insurance(36, 32, 0))"
      ]
    },
    {
      "cell_type": "code",
      "source": [
        "print(calc_insurance(56, 40.3, 0))"
      ],
      "metadata": {
        "colab": {
          "base_uri": "https://localhost:8080/"
        },
        "id": "YDiNQmroPgsh",
        "outputId": "9f73687a-46e1-4468-80e9-6fd1aec76092"
      },
      "id": "YDiNQmroPgsh",
      "execution_count": 44,
      "outputs": [
        {
          "output_type": "stream",
          "name": "stdout",
          "text": [
            "39212.87980470107\n"
          ]
        }
      ]
    }
  ],
  "metadata": {
    "kernelspec": {
      "display_name": "Python 3",
      "language": "python",
      "name": "python3"
    },
    "language_info": {
      "codemirror_mode": {
        "name": "ipython",
        "version": 3
      },
      "file_extension": ".py",
      "mimetype": "text/x-python",
      "name": "python",
      "nbconvert_exporter": "python",
      "pygments_lexer": "ipython3",
      "version": "3.8.8"
    },
    "colab": {
      "name": "608_Final_project.ipynb",
      "provenance": [],
      "collapsed_sections": []
    }
  },
  "nbformat": 4,
  "nbformat_minor": 5
}